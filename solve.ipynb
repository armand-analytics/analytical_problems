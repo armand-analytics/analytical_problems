{
 "cells": [
  {
   "cell_type": "code",
   "execution_count": null,
   "metadata": {},
   "outputs": [],
   "source": [
    "'''\n",
    "\n",
    "******Analytical Exercise\n",
    " \n",
    "Banc ABC is a large US Bank that is protected by F5, Inc. They have approached F5 with a special request. They have set up special infrastructure in their environment to service financial aggregators like Mint and \n",
    "Plaid who login in to accounts on behalf of Banc ABC’s customers. Traditionally no attention has been paid to these aggregators and they have been allowed unfettered access to Banc ABC’s systems.\n",
    "\n",
    "A new CISO has taken the reins at Banc ABC and has requested that we look at all the aggregator transactions and provide her with a report. She is specifically concerned about the rate at which aggregators are \n",
    "logging into accounts. She is proposing limiting each aggregator to 1 login per account per 10 min interval and would like to know what impact this will have on the aggregators.\n",
    "\n",
    "\n",
    "Data Provided\n",
    "You have been provided with two CSV files for the purpose of this exercise.\n",
    "\n",
    "1.\tAggregator IP List.csv\n",
    "Contains a list of all the allowlisted (whitelisted) IPs that belong to known financial aggregators that are allowed by Banc ABC to access their customer’s accounts. The format of the file is\n",
    "IP: contains the IP addresses belonging to the aggregators that have been allowlisted\n",
    "Aggregator: contains the name of the aggregator that owns the respective allowlisted IP address\n",
    "\n",
    "2.\tLogin Transactions.csv\n",
    "This file contains all the logins observed by F5 over a 24 hour period on Banc ABC’s special Aggregator ONLY endpoint. This endpoint was set up specifically to process transactions for the allowlisted aggregators so as not \n",
    "to interfere with regular customer traffic which uses a different endpoint.\n",
    "\n",
    "The format of the file is:\n",
    "IP: This is the IP address from which the login transaction came\n",
    "LoginSuccess: This is an indicator of whether or not the login was successful i.e. had the correct accountName and password pair\n",
    "AccountName: this is the account that the transaction was trying to log into\n",
    "Timestamp: this is the epoch timestamp at which the respective login transaction was received\n",
    "-------------------------------------------------------------------------------------------------------------------------------------------------------------------------------------\n",
    "Required\n",
    "Produce a presentation for Banc ABC’s CISO and her team covering the following questions as well as any other insights you may deem important to bring to Banc ABC’s attention.\n",
    "1.\tWhich aggregators are accessing Banc ABC’s systems?\n",
    "2.\tHow much volume are the aggregators sending?\n",
    "3.\tHow many individual user accounts are being accessed by the aggregators?\n",
    "4.\tWhat is the login success rate of these aggregators and is this in line with what would be expected in your opinion?\n",
    "5.\tWhat is the average number of transactions each aggregator sends per 10min interval?\n",
    "6.\tWhat is the maximum number of transactions each aggregator sends per 10min interval?\n",
    "7.\tWhat would be the impact of the CISO’s proposal to limit each aggregator to 1 login per account per 10 min interval?\n",
    "\n",
    "Guidance\n",
    "●\tFeel free to use any analytical tools you feel comfortable with to perform the analysis and prepare the presentation for the CISO. We recommend, but do not require, use of Jupyter notebooks.\n",
    "●\tBe prepared to show your code or worksheets and to answer questions about your thought and analytical processes.\n",
    "●\tPresentation will be over Zoom to the Banc ABC CISO and will be scheduled for 1 hour, including questions.\n",
    "\n",
    "You have 3 days to prepare the deck and email it to the Banc ABC CISO (please email directly to the Threat Analytics & Reporting team distro: tar@f5.com)\n",
    "\n",
    "\n",
    "'''"
   ]
  },
  {
   "cell_type": "code",
   "execution_count": 1,
   "metadata": {},
   "outputs": [],
   "source": [
    "import pandas as pd\n",
    "import numpy as np\n",
    "import matplotlib as plt\n",
    "\n",
    "\n"
   ]
  },
  {
   "cell_type": "code",
   "execution_count": 6,
   "metadata": {},
   "outputs": [
    {
     "name": "stdout",
     "output_type": "stream",
     "text": [
      "done!\n"
     ]
    }
   ],
   "source": [
    "# Load the data\n",
    "aggregator_ip_list = pd.read_csv(r'C:\\Users\\ARMANDO\\Documents\\Python Scripts\\Challenges\\F5\\Aggregator IP List.csv', index_col=0)\n",
    "login_transactions = pd.read_csv(r'C:\\Users\\ARMANDO\\Documents\\Python Scripts\\Challenges\\F5\\Login Transactions.csv', index_col=0)\n",
    "\n",
    "print(login_transactions.dtypes)\n",
    "print(aggregator_ip_list.dtypes)\n",
    "\n",
    "print('done!')"
   ]
  },
  {
   "cell_type": "code",
   "execution_count": 26,
   "metadata": {},
   "outputs": [
    {
     "name": "stdout",
     "output_type": "stream",
     "text": [
      "                  ip Aggregator\n",
      "count            315        315\n",
      "unique           315          7\n",
      "top     54.208.59.10  YoungOnes\n",
      "freq               1        249\n",
      "                           timestamp\n",
      "count                        4092253\n",
      "mean   2018-10-28 17:04:39.293569536\n",
      "min       2018-10-28 05:00:00.016000\n",
      "25%       2018-10-28 10:50:54.060000\n",
      "50%    2018-10-28 17:28:15.920999936\n",
      "75%       2018-10-28 23:03:24.952000\n",
      "max       2018-10-29 04:59:59.982000\n"
     ]
    }
   ],
   "source": [
    "# lets see the overal info from files\n",
    "\n",
    "print(aggregator_ip_list.describe().round(2))\n",
    "print(login_transactions.describe().round(2))\n",
    "#we can see IP \\neq ip, so lets change to IP instead of ip\n"
   ]
  },
  {
   "cell_type": "code",
   "execution_count": 27,
   "metadata": {},
   "outputs": [
    {
     "data": {
      "text/html": [
       "<div>\n",
       "<style scoped>\n",
       "    .dataframe tbody tr th:only-of-type {\n",
       "        vertical-align: middle;\n",
       "    }\n",
       "\n",
       "    .dataframe tbody tr th {\n",
       "        vertical-align: top;\n",
       "    }\n",
       "\n",
       "    .dataframe thead th {\n",
       "        text-align: right;\n",
       "    }\n",
       "</style>\n",
       "<table border=\"1\" class=\"dataframe\">\n",
       "  <thead>\n",
       "    <tr style=\"text-align: right;\">\n",
       "      <th></th>\n",
       "      <th>IP</th>\n",
       "      <th>Aggregator</th>\n",
       "    </tr>\n",
       "  </thead>\n",
       "  <tbody>\n",
       "    <tr>\n",
       "      <th>0</th>\n",
       "      <td>54.208.59.10</td>\n",
       "      <td>AWS</td>\n",
       "    </tr>\n",
       "    <tr>\n",
       "      <th>1</th>\n",
       "      <td>54.88.74.128</td>\n",
       "      <td>AWS</td>\n",
       "    </tr>\n",
       "    <tr>\n",
       "      <th>2</th>\n",
       "      <td>54.88.202.28</td>\n",
       "      <td>AWS</td>\n",
       "    </tr>\n",
       "    <tr>\n",
       "      <th>3</th>\n",
       "      <td>52.70.160.54</td>\n",
       "      <td>FinTech</td>\n",
       "    </tr>\n",
       "    <tr>\n",
       "      <th>8</th>\n",
       "      <td>52.44.118.176</td>\n",
       "      <td>FinTech</td>\n",
       "    </tr>\n",
       "  </tbody>\n",
       "</table>\n",
       "</div>"
      ],
      "text/plain": [
       "              IP Aggregator\n",
       "0   54.208.59.10        AWS\n",
       "1   54.88.74.128        AWS\n",
       "2   54.88.202.28        AWS\n",
       "3   52.70.160.54    FinTech\n",
       "8  52.44.118.176    FinTech"
      ]
     },
     "execution_count": 27,
     "metadata": {},
     "output_type": "execute_result"
    }
   ],
   "source": [
    "aggregator_ip_list.rename(columns={'ip': 'IP'}, inplace=True)\n",
    "aggregator_ip_list.head()"
   ]
  },
  {
   "cell_type": "code",
   "execution_count": 20,
   "metadata": {},
   "outputs": [
    {
     "data": {
      "text/plain": [
       "ip            object\n",
       "Aggregator    object\n",
       "dtype: object"
      ]
     },
     "execution_count": 20,
     "metadata": {},
     "output_type": "execute_result"
    }
   ],
   "source": [
    "\n",
    "# Convert the timestamp from milliseconds to a datetime object for easier manipulation\n",
    "# login_transactions['Timestamp'] = pd.to_datetime(login_transactions['Timestamp'], unit='ms')\n"
   ]
  },
  {
   "cell_type": "code",
   "execution_count": 18,
   "metadata": {},
   "outputs": [
    {
     "name": "stdout",
     "output_type": "stream",
     "text": [
      "format complete!\n"
     ]
    }
   ],
   "source": [
    "\n",
    "# Convert the timestamp to a datetime object for easier manipulation\n",
    "login_transactions['timestamp'] = pd.to_datetime(login_transactions['timestamp'], unit='ms')\n",
    "print('format complete!')"
   ]
  },
  {
   "cell_type": "code",
   "execution_count": 19,
   "metadata": {},
   "outputs": [
    {
     "ename": "KeyError",
     "evalue": "'IP'",
     "output_type": "error",
     "traceback": [
      "\u001b[1;31m---------------------------------------------------------------------------\u001b[0m",
      "\u001b[1;31mKeyError\u001b[0m                                  Traceback (most recent call last)",
      "\u001b[1;32m~\\AppData\\Local\\Temp\\ipykernel_10516\\2676980661.py\u001b[0m in \u001b[0;36m?\u001b[1;34m()\u001b[0m\n\u001b[0;32m      1\u001b[0m \u001b[1;31m# Merge the dataframes to add aggregator names to the login transactions\u001b[0m\u001b[1;33m\u001b[0m\u001b[1;33m\u001b[0m\u001b[0m\n\u001b[1;32m----> 2\u001b[1;33m \u001b[0mmerged_data\u001b[0m \u001b[1;33m=\u001b[0m \u001b[0mlogin_transactions\u001b[0m\u001b[1;33m.\u001b[0m\u001b[0mmerge\u001b[0m\u001b[1;33m(\u001b[0m\u001b[0maggregator_ip_list\u001b[0m\u001b[1;33m,\u001b[0m \u001b[0mon\u001b[0m\u001b[1;33m=\u001b[0m\u001b[1;34m'IP'\u001b[0m\u001b[1;33m,\u001b[0m \u001b[0mhow\u001b[0m\u001b[1;33m=\u001b[0m\u001b[1;34m'left'\u001b[0m\u001b[1;33m)\u001b[0m\u001b[1;33m\u001b[0m\u001b[1;33m\u001b[0m\u001b[0m\n\u001b[0m",
      "\u001b[1;32mc:\\Users\\ARMANDO\\AppData\\Local\\Programs\\Python\\Python311\\Lib\\site-packages\\pandas\\core\\frame.py\u001b[0m in \u001b[0;36m?\u001b[1;34m(self, right, how, on, left_on, right_on, left_index, right_index, sort, suffixes, copy, indicator, validate)\u001b[0m\n\u001b[0;32m  10828\u001b[0m         \u001b[0mvalidate\u001b[0m\u001b[1;33m:\u001b[0m \u001b[0mMergeValidate\u001b[0m \u001b[1;33m|\u001b[0m \u001b[1;32mNone\u001b[0m \u001b[1;33m=\u001b[0m \u001b[1;32mNone\u001b[0m\u001b[1;33m,\u001b[0m\u001b[1;33m\u001b[0m\u001b[1;33m\u001b[0m\u001b[0m\n\u001b[0;32m  10829\u001b[0m     ) -> DataFrame:\n\u001b[0;32m  10830\u001b[0m         \u001b[1;32mfrom\u001b[0m \u001b[0mpandas\u001b[0m\u001b[1;33m.\u001b[0m\u001b[0mcore\u001b[0m\u001b[1;33m.\u001b[0m\u001b[0mreshape\u001b[0m\u001b[1;33m.\u001b[0m\u001b[0mmerge\u001b[0m \u001b[1;32mimport\u001b[0m \u001b[0mmerge\u001b[0m\u001b[1;33m\u001b[0m\u001b[1;33m\u001b[0m\u001b[0m\n\u001b[0;32m  10831\u001b[0m \u001b[1;33m\u001b[0m\u001b[0m\n\u001b[1;32m> 10832\u001b[1;33m         return merge(\n\u001b[0m\u001b[0;32m  10833\u001b[0m             \u001b[0mself\u001b[0m\u001b[1;33m,\u001b[0m\u001b[1;33m\u001b[0m\u001b[1;33m\u001b[0m\u001b[0m\n\u001b[0;32m  10834\u001b[0m             \u001b[0mright\u001b[0m\u001b[1;33m,\u001b[0m\u001b[1;33m\u001b[0m\u001b[1;33m\u001b[0m\u001b[0m\n\u001b[0;32m  10835\u001b[0m             \u001b[0mhow\u001b[0m\u001b[1;33m=\u001b[0m\u001b[0mhow\u001b[0m\u001b[1;33m,\u001b[0m\u001b[1;33m\u001b[0m\u001b[1;33m\u001b[0m\u001b[0m\n",
      "\u001b[1;32mc:\\Users\\ARMANDO\\AppData\\Local\\Programs\\Python\\Python311\\Lib\\site-packages\\pandas\\core\\reshape\\merge.py\u001b[0m in \u001b[0;36m?\u001b[1;34m(left, right, how, on, left_on, right_on, left_index, right_index, sort, suffixes, copy, indicator, validate)\u001b[0m\n\u001b[0;32m    166\u001b[0m             \u001b[0mvalidate\u001b[0m\u001b[1;33m=\u001b[0m\u001b[0mvalidate\u001b[0m\u001b[1;33m,\u001b[0m\u001b[1;33m\u001b[0m\u001b[1;33m\u001b[0m\u001b[0m\n\u001b[0;32m    167\u001b[0m             \u001b[0mcopy\u001b[0m\u001b[1;33m=\u001b[0m\u001b[0mcopy\u001b[0m\u001b[1;33m,\u001b[0m\u001b[1;33m\u001b[0m\u001b[1;33m\u001b[0m\u001b[0m\n\u001b[0;32m    168\u001b[0m         )\n\u001b[0;32m    169\u001b[0m     \u001b[1;32melse\u001b[0m\u001b[1;33m:\u001b[0m\u001b[1;33m\u001b[0m\u001b[1;33m\u001b[0m\u001b[0m\n\u001b[1;32m--> 170\u001b[1;33m         op = _MergeOperation(\n\u001b[0m\u001b[0;32m    171\u001b[0m             \u001b[0mleft_df\u001b[0m\u001b[1;33m,\u001b[0m\u001b[1;33m\u001b[0m\u001b[1;33m\u001b[0m\u001b[0m\n\u001b[0;32m    172\u001b[0m             \u001b[0mright_df\u001b[0m\u001b[1;33m,\u001b[0m\u001b[1;33m\u001b[0m\u001b[1;33m\u001b[0m\u001b[0m\n\u001b[0;32m    173\u001b[0m             \u001b[0mhow\u001b[0m\u001b[1;33m=\u001b[0m\u001b[0mhow\u001b[0m\u001b[1;33m,\u001b[0m\u001b[1;33m\u001b[0m\u001b[1;33m\u001b[0m\u001b[0m\n",
      "\u001b[1;32mc:\\Users\\ARMANDO\\AppData\\Local\\Programs\\Python\\Python311\\Lib\\site-packages\\pandas\\core\\reshape\\merge.py\u001b[0m in \u001b[0;36m?\u001b[1;34m(self, left, right, how, on, left_on, right_on, left_index, right_index, sort, suffixes, indicator, validate)\u001b[0m\n\u001b[0;32m    790\u001b[0m             \u001b[0mself\u001b[0m\u001b[1;33m.\u001b[0m\u001b[0mright_join_keys\u001b[0m\u001b[1;33m,\u001b[0m\u001b[1;33m\u001b[0m\u001b[1;33m\u001b[0m\u001b[0m\n\u001b[0;32m    791\u001b[0m             \u001b[0mself\u001b[0m\u001b[1;33m.\u001b[0m\u001b[0mjoin_names\u001b[0m\u001b[1;33m,\u001b[0m\u001b[1;33m\u001b[0m\u001b[1;33m\u001b[0m\u001b[0m\n\u001b[0;32m    792\u001b[0m             \u001b[0mleft_drop\u001b[0m\u001b[1;33m,\u001b[0m\u001b[1;33m\u001b[0m\u001b[1;33m\u001b[0m\u001b[0m\n\u001b[0;32m    793\u001b[0m             \u001b[0mright_drop\u001b[0m\u001b[1;33m,\u001b[0m\u001b[1;33m\u001b[0m\u001b[1;33m\u001b[0m\u001b[0m\n\u001b[1;32m--> 794\u001b[1;33m         ) = self._get_merge_keys()\n\u001b[0m\u001b[0;32m    795\u001b[0m \u001b[1;33m\u001b[0m\u001b[0m\n\u001b[0;32m    796\u001b[0m         \u001b[1;32mif\u001b[0m \u001b[0mleft_drop\u001b[0m\u001b[1;33m:\u001b[0m\u001b[1;33m\u001b[0m\u001b[1;33m\u001b[0m\u001b[0m\n\u001b[0;32m    797\u001b[0m             \u001b[0mself\u001b[0m\u001b[1;33m.\u001b[0m\u001b[0mleft\u001b[0m \u001b[1;33m=\u001b[0m \u001b[0mself\u001b[0m\u001b[1;33m.\u001b[0m\u001b[0mleft\u001b[0m\u001b[1;33m.\u001b[0m\u001b[0m_drop_labels_or_levels\u001b[0m\u001b[1;33m(\u001b[0m\u001b[0mleft_drop\u001b[0m\u001b[1;33m)\u001b[0m\u001b[1;33m\u001b[0m\u001b[1;33m\u001b[0m\u001b[0m\n",
      "\u001b[1;32mc:\\Users\\ARMANDO\\AppData\\Local\\Programs\\Python\\Python311\\Lib\\site-packages\\pandas\\core\\reshape\\merge.py\u001b[0m in \u001b[0;36m?\u001b[1;34m(self)\u001b[0m\n\u001b[0;32m   1293\u001b[0m                         \u001b[1;31m# Then we're either Hashable or a wrong-length arraylike,\u001b[0m\u001b[1;33m\u001b[0m\u001b[1;33m\u001b[0m\u001b[0m\n\u001b[0;32m   1294\u001b[0m                         \u001b[1;31m#  the latter of which will raise\u001b[0m\u001b[1;33m\u001b[0m\u001b[1;33m\u001b[0m\u001b[0m\n\u001b[0;32m   1295\u001b[0m                         \u001b[0mrk\u001b[0m \u001b[1;33m=\u001b[0m \u001b[0mcast\u001b[0m\u001b[1;33m(\u001b[0m\u001b[0mHashable\u001b[0m\u001b[1;33m,\u001b[0m \u001b[0mrk\u001b[0m\u001b[1;33m)\u001b[0m\u001b[1;33m\u001b[0m\u001b[1;33m\u001b[0m\u001b[0m\n\u001b[0;32m   1296\u001b[0m                         \u001b[1;32mif\u001b[0m \u001b[0mrk\u001b[0m \u001b[1;32mis\u001b[0m \u001b[1;32mnot\u001b[0m \u001b[1;32mNone\u001b[0m\u001b[1;33m:\u001b[0m\u001b[1;33m\u001b[0m\u001b[1;33m\u001b[0m\u001b[0m\n\u001b[1;32m-> 1297\u001b[1;33m                             \u001b[0mright_keys\u001b[0m\u001b[1;33m.\u001b[0m\u001b[0mappend\u001b[0m\u001b[1;33m(\u001b[0m\u001b[0mright\u001b[0m\u001b[1;33m.\u001b[0m\u001b[0m_get_label_or_level_values\u001b[0m\u001b[1;33m(\u001b[0m\u001b[0mrk\u001b[0m\u001b[1;33m)\u001b[0m\u001b[1;33m)\u001b[0m\u001b[1;33m\u001b[0m\u001b[1;33m\u001b[0m\u001b[0m\n\u001b[0m\u001b[0;32m   1298\u001b[0m                         \u001b[1;32melse\u001b[0m\u001b[1;33m:\u001b[0m\u001b[1;33m\u001b[0m\u001b[1;33m\u001b[0m\u001b[0m\n\u001b[0;32m   1299\u001b[0m                             \u001b[1;31m# work-around for merge_asof(right_index=True)\u001b[0m\u001b[1;33m\u001b[0m\u001b[1;33m\u001b[0m\u001b[0m\n\u001b[0;32m   1300\u001b[0m                             \u001b[0mright_keys\u001b[0m\u001b[1;33m.\u001b[0m\u001b[0mappend\u001b[0m\u001b[1;33m(\u001b[0m\u001b[0mright\u001b[0m\u001b[1;33m.\u001b[0m\u001b[0mindex\u001b[0m\u001b[1;33m.\u001b[0m\u001b[0m_values\u001b[0m\u001b[1;33m)\u001b[0m\u001b[1;33m\u001b[0m\u001b[1;33m\u001b[0m\u001b[0m\n",
      "\u001b[1;32mc:\\Users\\ARMANDO\\AppData\\Local\\Programs\\Python\\Python311\\Lib\\site-packages\\pandas\\core\\generic.py\u001b[0m in \u001b[0;36m?\u001b[1;34m(self, key, axis)\u001b[0m\n\u001b[0;32m   1907\u001b[0m             \u001b[0mvalues\u001b[0m \u001b[1;33m=\u001b[0m \u001b[0mself\u001b[0m\u001b[1;33m.\u001b[0m\u001b[0mxs\u001b[0m\u001b[1;33m(\u001b[0m\u001b[0mkey\u001b[0m\u001b[1;33m,\u001b[0m \u001b[0maxis\u001b[0m\u001b[1;33m=\u001b[0m\u001b[0mother_axes\u001b[0m\u001b[1;33m[\u001b[0m\u001b[1;36m0\u001b[0m\u001b[1;33m]\u001b[0m\u001b[1;33m)\u001b[0m\u001b[1;33m.\u001b[0m\u001b[0m_values\u001b[0m\u001b[1;33m\u001b[0m\u001b[1;33m\u001b[0m\u001b[0m\n\u001b[0;32m   1908\u001b[0m         \u001b[1;32melif\u001b[0m \u001b[0mself\u001b[0m\u001b[1;33m.\u001b[0m\u001b[0m_is_level_reference\u001b[0m\u001b[1;33m(\u001b[0m\u001b[0mkey\u001b[0m\u001b[1;33m,\u001b[0m \u001b[0maxis\u001b[0m\u001b[1;33m=\u001b[0m\u001b[0maxis\u001b[0m\u001b[1;33m)\u001b[0m\u001b[1;33m:\u001b[0m\u001b[1;33m\u001b[0m\u001b[1;33m\u001b[0m\u001b[0m\n\u001b[0;32m   1909\u001b[0m             \u001b[0mvalues\u001b[0m \u001b[1;33m=\u001b[0m \u001b[0mself\u001b[0m\u001b[1;33m.\u001b[0m\u001b[0maxes\u001b[0m\u001b[1;33m[\u001b[0m\u001b[0maxis\u001b[0m\u001b[1;33m]\u001b[0m\u001b[1;33m.\u001b[0m\u001b[0mget_level_values\u001b[0m\u001b[1;33m(\u001b[0m\u001b[0mkey\u001b[0m\u001b[1;33m)\u001b[0m\u001b[1;33m.\u001b[0m\u001b[0m_values\u001b[0m\u001b[1;33m\u001b[0m\u001b[1;33m\u001b[0m\u001b[0m\n\u001b[0;32m   1910\u001b[0m         \u001b[1;32melse\u001b[0m\u001b[1;33m:\u001b[0m\u001b[1;33m\u001b[0m\u001b[1;33m\u001b[0m\u001b[0m\n\u001b[1;32m-> 1911\u001b[1;33m             \u001b[1;32mraise\u001b[0m \u001b[0mKeyError\u001b[0m\u001b[1;33m(\u001b[0m\u001b[0mkey\u001b[0m\u001b[1;33m)\u001b[0m\u001b[1;33m\u001b[0m\u001b[1;33m\u001b[0m\u001b[0m\n\u001b[0m\u001b[0;32m   1912\u001b[0m \u001b[1;33m\u001b[0m\u001b[0m\n\u001b[0;32m   1913\u001b[0m         \u001b[1;31m# Check for duplicates\u001b[0m\u001b[1;33m\u001b[0m\u001b[1;33m\u001b[0m\u001b[0m\n\u001b[0;32m   1914\u001b[0m         \u001b[1;32mif\u001b[0m \u001b[0mvalues\u001b[0m\u001b[1;33m.\u001b[0m\u001b[0mndim\u001b[0m \u001b[1;33m>\u001b[0m \u001b[1;36m1\u001b[0m\u001b[1;33m:\u001b[0m\u001b[1;33m\u001b[0m\u001b[1;33m\u001b[0m\u001b[0m\n",
      "\u001b[1;31mKeyError\u001b[0m: 'IP'"
     ]
    }
   ],
   "source": [
    "\n",
    "\n",
    "# Merge the dataframes to add aggregator names to the login transactions\n",
    "merged_data = login_transactions.merge(aggregator_ip_list, on='IP', how='left')"
   ]
  },
  {
   "cell_type": "code",
   "execution_count": null,
   "metadata": {},
   "outputs": [],
   "source": [
    "\n",
    "\n",
    "# 1. Which aggregators are accessing Banc ABC’s systems?\n",
    "aggregators_accessing = merged_data['Aggregator'].unique()\n",
    "\n",
    "# 2. How much volume are the aggregators sending?\n",
    "aggregator_volume = merged_data['Aggregator'].value_counts()\n",
    "\n",
    "# 3. How many individual user accounts are being accessed by the aggregators?\n",
    "individual_accounts = merged_data.groupby('Aggregator')['AccountName'].nunique()\n",
    "\n",
    "# 4. What is the login success rate of these aggregators?\n",
    "login_success_rate = merged_data.groupby('Aggregator')['LoginSuccess'].mean()\n",
    "\n",
    "# 5. What is the average number of transactions each aggregator sends per 10min interval?\n",
    "merged_data['TimeInterval'] = merged_data['Timestamp'].dt.floor('10T')\n",
    "average_transactions_per_10min = merged_data.groupby(['Aggregator', 'TimeInterval']).size().groupby('Aggregator').mean()\n",
    "\n",
    "# 6. What is the maximum number of transactions each aggregator sends per 10min interval?\n",
    "max_transactions_per_10min = merged_data.groupby(['Aggregator', 'TimeInterval']).size().groupby('Aggregator').max()\n",
    "\n",
    "# 7. Impact of limiting each aggregator to 1 login per account per 10 min interval\n",
    "# Calculate the number of transactions per account per 10min interval\n",
    "transactions_per_account_10min = merged_data.groupby(['Aggregator', 'AccountName', 'TimeInterval']).size()\n",
    "\n",
    "# Count the number of times this exceeds 1 (i.e., the excess transactions)\n",
    "excess_transactions = transactions_per_account_10min[transactions_per_account_10min > 1] - 1\n",
    "impact_of_limitation = excess_transactions.groupby('Aggregator').sum()\n",
    "\n",
    "# Prepare the results for presentation\n",
    "results = {\n",
    "    'Aggregators Accessing': aggregators_accessing,\n",
    "    'Aggregator Volume': aggregator_volume,\n",
    "    'Individual Accounts': individual_accounts,\n",
    "    'Login Success Rate': login_success_rate,\n",
    "    'Average Transactions per 10min': average_transactions_per_10min,\n",
    "    'Max Transactions per 10min': max_transactions_per_10min,\n",
    "    'Impact of Limitation': impact_of_limitation\n",
    "}\n",
    "\n",
    "# Display results\n",
    "for key, value in results.items():\n",
    "    print(f\"{key}:\\n{value}\\n\")\n",
    "\n"
   ]
  },
  {
   "cell_type": "code",
   "execution_count": 18,
   "metadata": {},
   "outputs": [
    {
     "data": {
      "text/html": [
       "<div>\n",
       "<style scoped>\n",
       "    .dataframe tbody tr th:only-of-type {\n",
       "        vertical-align: middle;\n",
       "    }\n",
       "\n",
       "    .dataframe tbody tr th {\n",
       "        vertical-align: top;\n",
       "    }\n",
       "\n",
       "    .dataframe thead th {\n",
       "        text-align: right;\n",
       "    }\n",
       "</style>\n",
       "<table border=\"1\" class=\"dataframe\">\n",
       "  <thead>\n",
       "    <tr style=\"text-align: right;\">\n",
       "      <th></th>\n",
       "      <th>ip</th>\n",
       "      <th>Aggregator</th>\n",
       "    </tr>\n",
       "  </thead>\n",
       "  <tbody>\n",
       "    <tr>\n",
       "      <th>0</th>\n",
       "      <td>54.208.59.10</td>\n",
       "      <td>AWS</td>\n",
       "    </tr>\n",
       "    <tr>\n",
       "      <th>1</th>\n",
       "      <td>54.88.74.128</td>\n",
       "      <td>AWS</td>\n",
       "    </tr>\n",
       "    <tr>\n",
       "      <th>2</th>\n",
       "      <td>54.88.202.28</td>\n",
       "      <td>AWS</td>\n",
       "    </tr>\n",
       "    <tr>\n",
       "      <th>3</th>\n",
       "      <td>52.70.160.54</td>\n",
       "      <td>FinTech</td>\n",
       "    </tr>\n",
       "    <tr>\n",
       "      <th>8</th>\n",
       "      <td>52.44.118.176</td>\n",
       "      <td>FinTech</td>\n",
       "    </tr>\n",
       "  </tbody>\n",
       "</table>\n",
       "</div>"
      ],
      "text/plain": [
       "              ip Aggregator\n",
       "0   54.208.59.10        AWS\n",
       "1   54.88.74.128        AWS\n",
       "2   54.88.202.28        AWS\n",
       "3   52.70.160.54    FinTech\n",
       "8  52.44.118.176    FinTech"
      ]
     },
     "execution_count": 18,
     "metadata": {},
     "output_type": "execute_result"
    }
   ],
   "source": [
    "#Vamos a abrir los archivos para visualizarlos solamente:\n",
    "agg.head()"
   ]
  },
  {
   "cell_type": "code",
   "execution_count": 15,
   "metadata": {},
   "outputs": [
    {
     "data": {
      "text/html": [
       "<div>\n",
       "<style scoped>\n",
       "    .dataframe tbody tr th:only-of-type {\n",
       "        vertical-align: middle;\n",
       "    }\n",
       "\n",
       "    .dataframe tbody tr th {\n",
       "        vertical-align: top;\n",
       "    }\n",
       "\n",
       "    .dataframe thead th {\n",
       "        text-align: right;\n",
       "    }\n",
       "</style>\n",
       "<table border=\"1\" class=\"dataframe\">\n",
       "  <thead>\n",
       "    <tr style=\"text-align: right;\">\n",
       "      <th></th>\n",
       "      <th>IP</th>\n",
       "      <th>LoginSuccess</th>\n",
       "      <th>AccountName</th>\n",
       "      <th>timestamp</th>\n",
       "    </tr>\n",
       "  </thead>\n",
       "  <tbody>\n",
       "    <tr>\n",
       "      <th>0</th>\n",
       "      <td>54.208.59.10</td>\n",
       "      <td>Fail</td>\n",
       "      <td>756bb790d96873a</td>\n",
       "      <td>1540702800016</td>\n",
       "    </tr>\n",
       "    <tr>\n",
       "      <th>1</th>\n",
       "      <td>206.108.41.103</td>\n",
       "      <td>Success</td>\n",
       "      <td>7b3eb9367400c1b</td>\n",
       "      <td>1540702800022</td>\n",
       "    </tr>\n",
       "    <tr>\n",
       "      <th>2</th>\n",
       "      <td>216.34.61.115</td>\n",
       "      <td>Success</td>\n",
       "      <td>abfa625be56908a</td>\n",
       "      <td>1540702800041</td>\n",
       "    </tr>\n",
       "    <tr>\n",
       "      <th>3</th>\n",
       "      <td>52.44.118.176</td>\n",
       "      <td>Fail</td>\n",
       "      <td>dad678e942a965c</td>\n",
       "      <td>1540702800046</td>\n",
       "    </tr>\n",
       "    <tr>\n",
       "      <th>4</th>\n",
       "      <td>64.41.181.29</td>\n",
       "      <td>Success</td>\n",
       "      <td>e3014e35d5ec49b</td>\n",
       "      <td>1540702800067</td>\n",
       "    </tr>\n",
       "    <tr>\n",
       "      <th>...</th>\n",
       "      <td>...</td>\n",
       "      <td>...</td>\n",
       "      <td>...</td>\n",
       "      <td>...</td>\n",
       "    </tr>\n",
       "    <tr>\n",
       "      <th>4092248</th>\n",
       "      <td>216.34.61.225</td>\n",
       "      <td>Fail</td>\n",
       "      <td>8dd393aa2fc2d3e</td>\n",
       "      <td>1540789199913</td>\n",
       "    </tr>\n",
       "    <tr>\n",
       "      <th>4092249</th>\n",
       "      <td>216.34.61.167</td>\n",
       "      <td>Success</td>\n",
       "      <td>ac59730a398c7f0</td>\n",
       "      <td>1540789199929</td>\n",
       "    </tr>\n",
       "    <tr>\n",
       "      <th>4092250</th>\n",
       "      <td>54.208.59.10</td>\n",
       "      <td>Fail</td>\n",
       "      <td>33f59293e9e34eb</td>\n",
       "      <td>1540789199939</td>\n",
       "    </tr>\n",
       "    <tr>\n",
       "      <th>4092251</th>\n",
       "      <td>54.208.59.10</td>\n",
       "      <td>Fail</td>\n",
       "      <td>e0e0836a6e4833c</td>\n",
       "      <td>1540789199961</td>\n",
       "    </tr>\n",
       "    <tr>\n",
       "      <th>4092252</th>\n",
       "      <td>54.88.202.28</td>\n",
       "      <td>Fail</td>\n",
       "      <td>8157988edb46c0a</td>\n",
       "      <td>1540789199982</td>\n",
       "    </tr>\n",
       "  </tbody>\n",
       "</table>\n",
       "<p>4092253 rows × 4 columns</p>\n",
       "</div>"
      ],
      "text/plain": [
       "                     IP LoginSuccess      AccountName      timestamp\n",
       "0          54.208.59.10         Fail  756bb790d96873a  1540702800016\n",
       "1        206.108.41.103      Success  7b3eb9367400c1b  1540702800022\n",
       "2         216.34.61.115      Success  abfa625be56908a  1540702800041\n",
       "3         52.44.118.176         Fail  dad678e942a965c  1540702800046\n",
       "4          64.41.181.29      Success  e3014e35d5ec49b  1540702800067\n",
       "...                 ...          ...              ...            ...\n",
       "4092248   216.34.61.225         Fail  8dd393aa2fc2d3e  1540789199913\n",
       "4092249   216.34.61.167      Success  ac59730a398c7f0  1540789199929\n",
       "4092250    54.208.59.10         Fail  33f59293e9e34eb  1540789199939\n",
       "4092251    54.208.59.10         Fail  e0e0836a6e4833c  1540789199961\n",
       "4092252    54.88.202.28         Fail  8157988edb46c0a  1540789199982\n",
       "\n",
       "[4092253 rows x 4 columns]"
      ]
     },
     "execution_count": 15,
     "metadata": {},
     "output_type": "execute_result"
    }
   ],
   "source": [
    "import pandas as pd\n",
    "tr=pd.read_csv(r'C:\\Users\\ARMANDO\\Documents\\Python Scripts\\Challenges\\F5\\Login Transactions.csv', index_col=0 )\n",
    "agg=pd.read_csv(r'C:\\Users\\ARMANDO\\Documents\\Python Scripts\\Challenges\\F5\\Aggregator IP List.csv', index_col=0)\n",
    "tr"
   ]
  },
  {
   "cell_type": "code",
   "execution_count": 19,
   "metadata": {},
   "outputs": [
    {
     "data": {
      "text/plain": [
       "array(['AWS', 'FinTech', 'Insight', 'YoungOnes', 'PayTM', 'Funtown',\n",
       "       'FunTown'], dtype=object)"
      ]
     },
     "execution_count": 19,
     "metadata": {},
     "output_type": "execute_result"
    }
   ],
   "source": [
    "agg['Aggregator'].unique()"
   ]
  },
  {
   "cell_type": "code",
   "execution_count": 20,
   "metadata": {},
   "outputs": [
    {
     "data": {
      "text/plain": [
       "array(['54.208.59.10', '54.88.74.128', '54.88.202.28', '52.70.160.54',\n",
       "       '52.44.118.176', '52.70.161.90', '52.0.123.48', '206.108.41.101',\n",
       "       '206.108.41.102', '206.108.41.103', '34.230.198.253',\n",
       "       '34.228.103.5', '34.230.198.27', '34.232.227.45', '206.108.41.105',\n",
       "       '206.108.41.106', '206.108.41.107', '206.108.41.108',\n",
       "       '64.41.181.183', '64.41.181.155', '64.41.181.105', '216.34.61.75',\n",
       "       '216.34.61.165', '216.34.61.191', '216.34.61.157', '216.34.61.181',\n",
       "       '64.41.181.177', '64.41.181.157', '216.34.61.115', '216.34.61.89',\n",
       "       '64.41.181.215', '64.41.181.135', '216.34.61.155', '64.41.181.17',\n",
       "       '216.34.61.183', '216.34.61.213', '216.34.61.133', '216.34.61.199',\n",
       "       '216.34.61.99', '64.41.181.149', '216.34.61.167', '216.34.61.93',\n",
       "       '216.34.61.193', '64.41.181.127', '216.34.61.109', '216.34.61.103',\n",
       "       '64.41.181.93', '64.41.181.185', '216.34.61.229', '216.34.61.189',\n",
       "       '64.41.181.43', '216.34.61.53', '64.41.181.97', '216.34.61.147',\n",
       "       '216.34.61.25', '216.34.61.201', '23.236.61.219', '64.41.181.163',\n",
       "       '64.41.181.35', '216.34.61.185', '216.34.61.23', '64.41.181.139',\n",
       "       '216.34.61.169', '216.34.61.81', '216.34.61.39', '216.34.61.205',\n",
       "       '216.34.61.95', '216.34.61.91', '64.41.181.27', '216.34.61.211',\n",
       "       '64.41.181.95', '216.34.61.177', '64.41.181.145', '64.41.181.207',\n",
       "       '64.41.181.187', '64.41.181.47', '216.34.61.231', '216.34.61.59',\n",
       "       '216.34.61.221', '216.34.61.171', '216.34.61.161', '64.41.181.197',\n",
       "       '216.34.61.143', '64.41.181.161', '216.34.61.203', '216.34.61.209',\n",
       "       '64.41.181.137', '64.41.181.181', '64.41.181.107', '64.41.181.45',\n",
       "       '64.41.181.91', '216.34.61.85', '216.34.61.47', '216.34.61.233',\n",
       "       '216.34.61.131', '64.41.181.117', '216.34.61.107', '64.41.181.69',\n",
       "       '64.41.181.165', '64.41.181.39', '64.41.181.209', '64.41.181.13',\n",
       "       '216.34.61.35', '216.34.61.21', '64.41.181.219', '216.34.61.237',\n",
       "       '216.34.61.65', '64.41.181.131', '64.41.181.121', '216.34.61.55',\n",
       "       '216.34.61.173', '64.41.181.31', '216.34.61.243', '64.41.181.19',\n",
       "       '216.34.61.153', '216.34.61.145', '64.41.181.109', '64.41.181.129',\n",
       "       '64.41.181.191', '64.41.181.15', '216.34.61.239', '216.34.61.83',\n",
       "       '216.34.61.227', '216.34.61.195', '216.34.61.49', '64.41.181.213',\n",
       "       '64.41.181.79', '64.41.181.81', '64.41.181.221', '64.41.181.21',\n",
       "       '64.41.181.179', '64.41.181.241', '216.34.61.149', '64.41.181.167',\n",
       "       '64.41.181.147', '64.41.181.125', '216.34.61.57', '64.41.181.89',\n",
       "       '64.41.181.133', '216.34.61.247', '216.34.61.61', '216.34.61.43',\n",
       "       '64.41.181.83', '216.34.61.87', '64.41.181.75', '216.34.61.159',\n",
       "       '64.41.181.205', '216.34.61.51', '64.41.181.239', '216.34.61.139',\n",
       "       '216.34.61.15', '216.34.61.179', '64.41.181.173', '216.34.61.163',\n",
       "       '64.41.181.195', '216.34.61.207', '64.41.181.217', '64.41.181.247',\n",
       "       '216.34.61.197', '34.196.181.9', '216.34.61.27', '64.41.181.63',\n",
       "       '64.41.181.113', '64.41.181.25', '64.41.181.189', '216.34.61.101',\n",
       "       '64.41.181.23', '64.41.181.103', '216.34.61.33', '216.34.61.129',\n",
       "       '64.41.181.41', '64.41.181.235', '64.41.181.37', '64.41.181.159',\n",
       "       '64.41.181.249', '216.34.61.41', '216.34.61.187', '216.34.61.217',\n",
       "       '64.41.181.77', '64.41.181.49', '216.34.61.121', '64.41.181.151',\n",
       "       '216.34.61.141', '64.41.181.231', '216.34.61.123', '64.41.181.53',\n",
       "       '64.41.181.141', '64.41.181.153', '216.34.61.77', '64.41.181.11',\n",
       "       '216.34.61.29', '216.34.61.119', '216.34.61.235', '216.34.61.117',\n",
       "       '216.34.61.67', '64.41.181.55', '216.34.61.111', '216.34.61.241',\n",
       "       '64.41.181.51', '64.41.181.119', '216.34.61.135', '216.34.61.137',\n",
       "       '64.41.181.73', '216.34.61.79', '64.41.181.225', '130.211.145.131',\n",
       "       '216.34.61.73', '146.148.88.217', '64.41.181.123', '216.34.61.13',\n",
       "       '216.34.61.31', '146.148.69.84', '146.148.78.142', '216.34.61.225',\n",
       "       '162.222.183.217', '199.223.233.184', '146.148.36.10',\n",
       "       '64.41.181.143', '130.211.172.52', '199.223.234.240',\n",
       "       '23.236.55.43', '107.178.208.119', '52.24.3.57', '52.27.237.96',\n",
       "       '146.148.47.66', '68.142.128.0/24', '54.86.211.15',\n",
       "       '64.41.181.169', '199.223.233.160', '108.59.82.49',\n",
       "       '23.251.145.205', '23.251.153.189', '54.84.158.179',\n",
       "       '107.178.209.213', '130.211.155.40', '146.148.43.130',\n",
       "       '64.41.181.237', '162.222.178.117', '64.41.181.193',\n",
       "       '23.251.156.41', '54.208.85.179', '107.23.185.108', '54.69.38.30',\n",
       "       '146.148.33.142', '54.149.29.41', '54.187.14.34', '64.41.181.33',\n",
       "       '107.23.141.229', '216.34.61.127', '64.41.181.29', '64.41.181.171',\n",
       "       '64.41.181.99', '216.34.61.105', '216.34.61.113', '64.41.181.101',\n",
       "       '216.34.61.219', '216.34.61.97', '216.34.61.223', '216.34.61.63',\n",
       "       '64.41.181.65', '64.41.181.223', '64.41.181.115', '64.41.181.175',\n",
       "       '216.34.61.71', '216.34.61.151', '216.34.61.175', '64.41.181.5',\n",
       "       '64.41.181.251', '216.34.61.37', '216.34.61.253', '216.34.61.19',\n",
       "       '216.34.61.17', '64.41.181.57', '216.34.61.215', '64.41.181.85',\n",
       "       '216.34.61.9', '64.41.181.71', '64.41.181.253', '64.41.181.59',\n",
       "       '64.41.181.199', '64.41.181.243', '64.41.181.67', '64.41.181.203',\n",
       "       '216.34.61.69', '216.34.61.245', '64.41.181.201', '64.41.181.61',\n",
       "       '216.34.61.251', '64.41.181.227', '64.41.181.233', '64.41.181.111',\n",
       "       '216.34.61.11', '216.34.61.249', '216.34.61.45', '64.14.28.34',\n",
       "       '64.14.28.35', '64.41.181.245', '64.41.181.229', '64.14.28.42',\n",
       "       '64.14.28.38', '54.85.38.150', '216.34.61.125', '208.186.255.60',\n",
       "       '216.35.7.254', '199.16.140.28', '199.16.139.33', '199.16.140.25',\n",
       "       '199.16.140.31', '52.203.78.102', '54.153.74.106', '199.16.139.35',\n",
       "       '199.16.140.30', '199.16.140.29', '199.16.140.26',\n",
       "       '68.142.133.0/24'], dtype=object)"
      ]
     },
     "execution_count": 20,
     "metadata": {},
     "output_type": "execute_result"
    }
   ],
   "source": [
    "agg['ip'].unique()"
   ]
  }
 ],
 "metadata": {
  "kernelspec": {
   "display_name": "Python 3",
   "language": "python",
   "name": "python3"
  },
  "language_info": {
   "codemirror_mode": {
    "name": "ipython",
    "version": 3
   },
   "file_extension": ".py",
   "mimetype": "text/x-python",
   "name": "python",
   "nbconvert_exporter": "python",
   "pygments_lexer": "ipython3",
   "version": "3.11.3"
  }
 },
 "nbformat": 4,
 "nbformat_minor": 2
}
